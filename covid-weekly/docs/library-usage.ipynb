{
 "cells": [
  {
   "cell_type": "markdown",
   "metadata": {},
   "source": [
    "# Library Usage\n",
    "\n",
    "author: camen piho  \n",
    "last run: 28 December 2020\n",
    "\n",
    "---\n",
    "\n",
    "1. [Description](#Description)\n",
    "1. [Installation](#Installation)\n",
    "1. [Usage](#Usage)"
   ]
  },
  {
   "cell_type": "markdown",
   "metadata": {},
   "source": [
    "## Description\n",
    "\n",
    "Examples on how to use the `covid-weekly` library."
   ]
  },
  {
   "cell_type": "markdown",
   "metadata": {},
   "source": [
    "## Installation\n",
    "\n",
    "1. `cd` to this project's root directory \n",
    "1. `scripts/install-dev`\n",
    "1. `jupyter lab`\n",
    "1. Run -> Run All Cells"
   ]
  },
  {
   "cell_type": "markdown",
   "metadata": {},
   "source": [
    "## Usage"
   ]
  },
  {
   "cell_type": "code",
   "execution_count": 1,
   "metadata": {},
   "outputs": [],
   "source": [
    "import os\n",
    "\n",
    "from covid_weekly import run\n",
    "\n",
    "SOCRATICA_APP_TOKEN = os.environ[\"SOCRATICA_APP_TOKEN\"]"
   ]
  },
  {
   "cell_type": "code",
   "execution_count": 2,
   "metadata": {},
   "outputs": [
    {
     "name": "stdout",
     "output_type": "stream",
     "text": [
      "INFO (2020-12-28 16:07:06) -- covid_weekly.get -- Requesing https://data.cityofchicago.org/resource/yhhz-zm2v.csv...\n",
      "INFO (2020-12-28 16:07:07) -- covid_weekly.parse -- Parsing 2520 rows from 2020-03-01 to 2020-12-19...\n",
      "INFO (2020-12-28 16:07:07) -- covid_weekly.persist -- Persisting 60 zip codes to example_output.csv...\n"
     ]
    },
    {
     "data": {
      "text/plain": [
       "'example_output.csv'"
      ]
     },
     "execution_count": 2,
     "metadata": {},
     "output_type": "execute_result"
    }
   ],
   "source": [
    "run(app_token=SOCRATICA_APP_TOKEN, persist_filepath=\"example_output.csv\")"
   ]
  },
  {
   "cell_type": "code",
   "execution_count": null,
   "metadata": {},
   "outputs": [],
   "source": []
  }
 ],
 "metadata": {
  "kernelspec": {
   "display_name": "covid-weekly3.9",
   "language": "python",
   "name": "covid_weekly3_9"
  },
  "language_info": {
   "codemirror_mode": {
    "name": "ipython",
    "version": 3
   },
   "file_extension": ".py",
   "mimetype": "text/x-python",
   "name": "python",
   "nbconvert_exporter": "python",
   "pygments_lexer": "ipython3",
   "version": "3.9.1"
  }
 },
 "nbformat": 4,
 "nbformat_minor": 4
}
